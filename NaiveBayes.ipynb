{
 "cells": [
  {
   "cell_type": "markdown",
   "metadata": {},
   "source": [
    "# Naive Bayes"
   ]
  },
  {
   "cell_type": "code",
   "execution_count": 1,
   "metadata": {},
   "outputs": [],
   "source": [
    "import pandas as pd \n",
    "from sklearn.naive_bayes import CategoricalNB \n",
    "from sklearn.metrics import * "
   ]
  },
  {
   "cell_type": "code",
   "execution_count": 2,
   "metadata": {},
   "outputs": [],
   "source": [
    "# load data\n",
    "df4_train = pd.read_csv(\"df4-train.csv\") \n",
    "df4_test = pd.read_csv(\"df4-test.csv\") "
   ]
  },
  {
   "cell_type": "code",
   "execution_count": 3,
   "metadata": {},
   "outputs": [
    {
     "data": {
      "text/html": [
       "<div>\n",
       "<style scoped>\n",
       "    .dataframe tbody tr th:only-of-type {\n",
       "        vertical-align: middle;\n",
       "    }\n",
       "\n",
       "    .dataframe tbody tr th {\n",
       "        vertical-align: top;\n",
       "    }\n",
       "\n",
       "    .dataframe thead th {\n",
       "        text-align: right;\n",
       "    }\n",
       "</style>\n",
       "<table border=\"1\" class=\"dataframe\">\n",
       "  <thead>\n",
       "    <tr style=\"text-align: right;\">\n",
       "      <th></th>\n",
       "      <th>WEIGHT</th>\n",
       "      <th>AGEGRP</th>\n",
       "      <th>MarStH</th>\n",
       "      <th>Sex</th>\n",
       "      <th>GENSTAT</th>\n",
       "      <th>IMMCAT5</th>\n",
       "      <th>CIP2011</th>\n",
       "      <th>HDGREE</th>\n",
       "      <th>TotInc</th>\n",
       "      <th>MOB1</th>\n",
       "      <th>...</th>\n",
       "      <th>REPAIR</th>\n",
       "      <th>ROOMS</th>\n",
       "      <th>DPGRSUM</th>\n",
       "      <th>NAICS</th>\n",
       "      <th>NOCS</th>\n",
       "      <th>CfSize</th>\n",
       "      <th>HHSIZE</th>\n",
       "      <th>DETH123</th>\n",
       "      <th>TotInc5</th>\n",
       "      <th>TotInc2</th>\n",
       "    </tr>\n",
       "  </thead>\n",
       "  <tbody>\n",
       "    <tr>\n",
       "      <th>0</th>\n",
       "      <td>37.037277</td>\n",
       "      <td>5</td>\n",
       "      <td>1</td>\n",
       "      <td>1</td>\n",
       "      <td>3</td>\n",
       "      <td>0</td>\n",
       "      <td>7</td>\n",
       "      <td>3</td>\n",
       "      <td>97000.0</td>\n",
       "      <td>0</td>\n",
       "      <td>...</td>\n",
       "      <td>0</td>\n",
       "      <td>10</td>\n",
       "      <td>0</td>\n",
       "      <td>11</td>\n",
       "      <td>7</td>\n",
       "      <td>3</td>\n",
       "      <td>3</td>\n",
       "      <td>0</td>\n",
       "      <td>Medium-High</td>\n",
       "      <td>Over $44K</td>\n",
       "    </tr>\n",
       "    <tr>\n",
       "      <th>1</th>\n",
       "      <td>37.120914</td>\n",
       "      <td>9</td>\n",
       "      <td>2</td>\n",
       "      <td>0</td>\n",
       "      <td>3</td>\n",
       "      <td>0</td>\n",
       "      <td>4</td>\n",
       "      <td>5</td>\n",
       "      <td>30000.0</td>\n",
       "      <td>0</td>\n",
       "      <td>...</td>\n",
       "      <td>2</td>\n",
       "      <td>4</td>\n",
       "      <td>0</td>\n",
       "      <td>13</td>\n",
       "      <td>1</td>\n",
       "      <td>1</td>\n",
       "      <td>1</td>\n",
       "      <td>0</td>\n",
       "      <td>Low-Medium</td>\n",
       "      <td>&lt;= $44K</td>\n",
       "    </tr>\n",
       "    <tr>\n",
       "      <th>2</th>\n",
       "      <td>37.041550</td>\n",
       "      <td>8</td>\n",
       "      <td>1</td>\n",
       "      <td>1</td>\n",
       "      <td>3</td>\n",
       "      <td>0</td>\n",
       "      <td>10</td>\n",
       "      <td>2</td>\n",
       "      <td>53000.0</td>\n",
       "      <td>0</td>\n",
       "      <td>...</td>\n",
       "      <td>0</td>\n",
       "      <td>3</td>\n",
       "      <td>0</td>\n",
       "      <td>17</td>\n",
       "      <td>6</td>\n",
       "      <td>1</td>\n",
       "      <td>1</td>\n",
       "      <td>0</td>\n",
       "      <td>Medium</td>\n",
       "      <td>Over $44K</td>\n",
       "    </tr>\n",
       "    <tr>\n",
       "      <th>3</th>\n",
       "      <td>37.037277</td>\n",
       "      <td>5</td>\n",
       "      <td>1</td>\n",
       "      <td>0</td>\n",
       "      <td>1</td>\n",
       "      <td>0</td>\n",
       "      <td>3</td>\n",
       "      <td>8</td>\n",
       "      <td>72000.0</td>\n",
       "      <td>1</td>\n",
       "      <td>...</td>\n",
       "      <td>0</td>\n",
       "      <td>6</td>\n",
       "      <td>0</td>\n",
       "      <td>9</td>\n",
       "      <td>4</td>\n",
       "      <td>2</td>\n",
       "      <td>2</td>\n",
       "      <td>0</td>\n",
       "      <td>Medium</td>\n",
       "      <td>Over $44K</td>\n",
       "    </tr>\n",
       "    <tr>\n",
       "      <th>4</th>\n",
       "      <td>37.039118</td>\n",
       "      <td>5</td>\n",
       "      <td>1</td>\n",
       "      <td>0</td>\n",
       "      <td>3</td>\n",
       "      <td>0</td>\n",
       "      <td>11</td>\n",
       "      <td>1</td>\n",
       "      <td>58000.0</td>\n",
       "      <td>0</td>\n",
       "      <td>...</td>\n",
       "      <td>0</td>\n",
       "      <td>6</td>\n",
       "      <td>0</td>\n",
       "      <td>18</td>\n",
       "      <td>1</td>\n",
       "      <td>3</td>\n",
       "      <td>3</td>\n",
       "      <td>1</td>\n",
       "      <td>Medium</td>\n",
       "      <td>Over $44K</td>\n",
       "    </tr>\n",
       "  </tbody>\n",
       "</table>\n",
       "<p>5 rows × 31 columns</p>\n",
       "</div>"
      ],
      "text/plain": [
       "      WEIGHT  AGEGRP  MarStH  Sex  GENSTAT  IMMCAT5  CIP2011  HDGREE   TotInc  \\\n",
       "0  37.037277       5       1    1        3        0        7       3  97000.0   \n",
       "1  37.120914       9       2    0        3        0        4       5  30000.0   \n",
       "2  37.041550       8       1    1        3        0       10       2  53000.0   \n",
       "3  37.037277       5       1    0        1        0        3       8  72000.0   \n",
       "4  37.039118       5       1    0        3        0       11       1  58000.0   \n",
       "\n",
       "   MOB1  ...  REPAIR  ROOMS  DPGRSUM  NAICS  NOCS  CfSize  HHSIZE  DETH123  \\\n",
       "0     0  ...       0     10        0     11     7       3       3        0   \n",
       "1     0  ...       2      4        0     13     1       1       1        0   \n",
       "2     0  ...       0      3        0     17     6       1       1        0   \n",
       "3     1  ...       0      6        0      9     4       2       2        0   \n",
       "4     0  ...       0      6        0     18     1       3       3        1   \n",
       "\n",
       "       TotInc5    TotInc2  \n",
       "0  Medium-High  Over $44K  \n",
       "1   Low-Medium    <= $44K  \n",
       "2       Medium  Over $44K  \n",
       "3       Medium  Over $44K  \n",
       "4       Medium  Over $44K  \n",
       "\n",
       "[5 rows x 31 columns]"
      ]
     },
     "execution_count": 3,
     "metadata": {},
     "output_type": "execute_result"
    }
   ],
   "source": [
    "df4_train.head()"
   ]
  },
  {
   "cell_type": "code",
   "execution_count": 4,
   "metadata": {},
   "outputs": [],
   "source": [
    "X_train = df4_train[[\"AGEGRP\", \"MarStH\", \"Sex\", \"GENSTAT\", \"IMMCAT5\", \"CIP2011\", \"HDGREE\", \"MOB1\", \"KOL\", \"Citizen\", \"COW\", \"FPTWK\", \"LSTWRK\", \"WKSWRK\",\n",
    "              \"BedRm\", \"CONDO\", \"DTYPE\", \"HCORENEED_IND\", \"NOS\", \"REPAIR\", \"ROOMS\", \"DPGRSUM\", \"NAICS\", \"NOCS\", \"CfSize\", \"HHSIZE\", \"DETH123\"]]\n",
    "X_test = df4_test[[\"AGEGRP\", \"MarStH\", \"Sex\", \"GENSTAT\", \"IMMCAT5\", \"CIP2011\", \"HDGREE\", \"MOB1\", \"KOL\", \"Citizen\", \"COW\", \"FPTWK\", \"LSTWRK\", \"WKSWRK\",\n",
    "              \"BedRm\", \"CONDO\", \"DTYPE\", \"HCORENEED_IND\", \"NOS\", \"REPAIR\", \"ROOMS\", \"DPGRSUM\", \"NAICS\", \"NOCS\", \"CfSize\", \"HHSIZE\", \"DETH123\"]]"
   ]
  },
  {
   "cell_type": "markdown",
   "metadata": {},
   "source": [
    "## 5 Bins"
   ]
  },
  {
   "cell_type": "code",
   "execution_count": 5,
   "metadata": {},
   "outputs": [],
   "source": [
    "y5 = df4_train[\"TotInc5\"]\n",
    "y5_test = df4_test[\"TotInc5\"]\n",
    "weights = df4_train[\"WEIGHT\"]"
   ]
  },
  {
   "cell_type": "code",
   "execution_count": 6,
   "metadata": {},
   "outputs": [],
   "source": [
    "# create the Categorical Naive Bayes classifier\n",
    "clf5 = CategoricalNB()\n",
    "\n",
    "# fit the model with the sample weights\n",
    "clf5.fit(X_train, y5, sample_weight = weights)\n",
    "\n",
    "# make predictions\n",
    "y5_pred = clf5.predict(X_test)"
   ]
  },
  {
   "cell_type": "code",
   "execution_count": 7,
   "metadata": {},
   "outputs": [
    {
     "name": "stdout",
     "output_type": "stream",
     "text": [
      "Accuracy: \n",
      "0.6224188790560472\n",
      "\n",
      "\n",
      "Precision: \n",
      "[0.35298593 0.10240202 0.80116777 0.53226036 0.36611503]\n",
      "\n",
      "\n",
      "Recall: \n",
      "[0.3942226  0.15283019 0.71366158 0.63245033 0.29892568]\n",
      "\n",
      "\n",
      "F1-Score: \n",
      "[0.37246639 0.12263437 0.75488722 0.57804611 0.32912627]\n"
     ]
    }
   ],
   "source": [
    "print(\"Accuracy: \") \n",
    "print(accuracy_score(y5_test, y5_pred))\n",
    "print(\"\\n\")\n",
    "print(\"Precision: \") \n",
    "print(precision_score(y5_test, y5_pred, average=None))\n",
    "print(\"\\n\")\n",
    "print(\"Recall: \")\n",
    "print(recall_score(y5_test, y5_pred, average=None))\n",
    "print(\"\\n\")\n",
    "print(\"F1-Score: \")\n",
    "print(f1_score(y5_test, y5_pred, average=None))"
   ]
  },
  {
   "cell_type": "code",
   "execution_count": 8,
   "metadata": {},
   "outputs": [
    {
     "data": {
      "image/png": "[encoded data removed]",
      "text/plain": [
       "<Figure size 640x480 with 2 Axes>"
      ]
     },
     "metadata": {},
     "output_type": "display_data"
    }
   ],
   "source": [
    "cm5 = confusion_matrix(y5_test, y5_pred)\n",
    "cm5_display = ConfusionMatrixDisplay(cm5).plot()\n"
   ]
  },
  {
   "cell_type": "markdown",
   "metadata": {},
   "source": [
    "## 2 Bins"
   ]
  },
  {
   "cell_type": "code",
   "execution_count": 9,
   "metadata": {},
   "outputs": [],
   "source": [
    "y2 = df4_train[\"TotInc2\"]\n",
    "y2_test = df4_test[\"TotInc2\"]\n",
    "weights = df4_train[\"WEIGHT\"]"
   ]
  },
  {
   "cell_type": "code",
   "execution_count": 10,
   "metadata": {},
   "outputs": [],
   "source": [
    "# create the Categorical Naive Bayes classifier\n",
    "clf2 = CategoricalNB()\n",
    "\n",
    "# fit the model with the sample weights\n",
    "clf2.fit(X_train, y2, sample_weight = weights)\n",
    "\n",
    "# make predictions\n",
    "y2_pred = clf2.predict(X_test)"
   ]
  },
  {
   "cell_type": "code",
   "execution_count": 11,
   "metadata": {},
   "outputs": [
    {
     "name": "stdout",
     "output_type": "stream",
     "text": [
      "Accuracy: \n",
      "0.7788643641747873\n",
      "\n",
      "\n",
      "Precision: \n",
      "[0.81151872 0.75195243]\n",
      "\n",
      "\n",
      "Recall: \n",
      "[0.72945878 0.82879099]\n",
      "\n",
      "\n",
      "F1-Score: \n",
      "[0.76830383 0.78850418]\n"
     ]
    }
   ],
   "source": [
    "print(\"Accuracy: \") \n",
    "print(accuracy_score(y2_test, y2_pred))\n",
    "print(\"\\n\")\n",
    "print(\"Precision: \") \n",
    "print(precision_score(y2_test, y2_pred, average=None))\n",
    "print(\"\\n\")\n",
    "print(\"Recall: \")\n",
    "print(recall_score(y2_test, y2_pred, average=None))\n",
    "print(\"\\n\")\n",
    "print(\"F1-Score: \")\n",
    "print(f1_score(y2_test, y2_pred, average=None))"
   ]
  },
  {
   "cell_type": "code",
   "execution_count": 12,
   "metadata": {},
   "outputs": [
    {
     "data": {
      "image/png": "[encoded data removed]",
      "text/plain": [
       "<Figure size 640x480 with 2 Axes>"
      ]
     },
     "metadata": {},
     "output_type": "display_data"
    }
   ],
   "source": [
    "cm2 = confusion_matrix(y2_test, y2_pred)\n",
    "cm2_display = ConfusionMatrixDisplay(cm2).plot()"
   ]
  }
 ],
 "metadata": {
  "kernelspec": {
   "display_name": "Python 3",
   "language": "python",
   "name": "python3"
  },
  "language_info": {
   "codemirror_mode": {
    "name": "ipython",
    "version": 3
   },
   "file_extension": ".py",
   "mimetype": "text/x-python",
   "name": "python",
   "nbconvert_exporter": "python",
   "pygments_lexer": "ipython3",
   "version": "3.12.5"
  }
 },
 "nbformat": 4,
 "nbformat_minor": 2
}
